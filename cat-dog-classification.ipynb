{
 "cells": [
  {
   "cell_type": "markdown",
   "metadata": {},
   "source": [
    "# Runned in Kaggle notebook"
   ]
  },
  {
   "cell_type": "code",
   "execution_count": 1,
   "metadata": {
    "_cell_guid": "b1076dfc-b9ad-4769-8c92-a6c4dae69d19",
    "_uuid": "8f2839f25d086af736a60e9eeb907d3b93b6e0e5"
   },
   "outputs": [],
   "source": [
    "# This Python 3 environment comes with many helpful analytics libraries installed\n",
    "# It is defined by the kaggle/python Docker image: https://github.com/kaggle/docker-python\n",
    "# For example, here's several helpful packages to load\n",
    "\n",
    "#import numpy as np # linear algebra\n",
    "#import pandas as pd # data processing, CSV file I/O (e.g. pd.read_csv)\n",
    "\n",
    "# Input data files are available in the read-only \"../input/\" directory\n",
    "# For example, running this (by clicking run or pressing Shift+Enter) will list all files under the input directory\n",
    "\n",
    "#import os\n",
    "#for dirname, _, filenames in os.walk('/kaggle/input'):\n",
    "#    for filename in filenames:\n",
    "#        print(os.path.join(dirname, filename))\n",
    "\n",
    "# You can write up to 20GB to the current directory (/kaggle/working/) that gets preserved as output when you create a version using \"Save & Run All\" \n",
    "# You can also write temporary files to /kaggle/temp/, but they won't be saved outside of the current session"
   ]
  },
  {
   "cell_type": "markdown",
   "metadata": {},
   "source": [
    "# Importing Train and Test data"
   ]
  },
  {
   "cell_type": "code",
   "execution_count": 22,
   "metadata": {
    "_cell_guid": "79c7e3d0-c299-4dcb-8224-4455121ee9b0",
    "_uuid": "d629ff2d2480ee46fbb7e2d37f6b5fab8052498a"
   },
   "outputs": [],
   "source": [
    "train = '/kaggle/input/cat-and-dog/training_set/training_set'\n",
    "# valid_path = 'data/dogs-vs-cats/valid'\n",
    "test = '../input/cat-and-dog/test_set/test_set'"
   ]
  },
  {
   "cell_type": "code",
   "execution_count": null,
   "metadata": {},
   "outputs": [],
   "source": []
  },
  {
   "cell_type": "markdown",
   "metadata": {},
   "source": [
    "# Data Preprocessing"
   ]
  },
  {
   "cell_type": "code",
   "execution_count": 23,
   "metadata": {},
   "outputs": [],
   "source": [
    "from keras.preprocessing.image import ImageDataGenerator"
   ]
  },
  {
   "cell_type": "code",
   "execution_count": 24,
   "metadata": {},
   "outputs": [
    {
     "name": "stdout",
     "output_type": "stream",
     "text": [
      "Found 8005 images belonging to 2 classes.\n"
     ]
    }
   ],
   "source": [
    "# Preprocessing the Training set\n",
    "\n",
    "# Data Augmentation\n",
    "train_datagen = ImageDataGenerator(rescale=1./255,\n",
    "                                   shear_range=0.2,\n",
    "                                   zoom_range=0.2,\n",
    "                                   horizontal_flip=True)\n",
    "\n",
    "# Importing Training set\n",
    "training_set = train_datagen.flow_from_directory(train,\n",
    "                                                    target_size=(64, 64),\n",
    "                                                    batch_size=32,\n",
    "                                                    class_mode='binary')"
   ]
  },
  {
   "cell_type": "code",
   "execution_count": 25,
   "metadata": {},
   "outputs": [
    {
     "name": "stdout",
     "output_type": "stream",
     "text": [
      "Found 2023 images belonging to 2 classes.\n"
     ]
    }
   ],
   "source": [
    "# Preprocessing the Test set\n",
    "\n",
    "# Feature Scaling\n",
    "test_datagen = ImageDataGenerator(rescale=1./255)\n",
    "\n",
    "# Importing Test set\n",
    "test_set = test_datagen.flow_from_directory(test,\n",
    "                                            target_size=(64, 64),\n",
    "                                            batch_size=32,\n",
    "                                            class_mode='binary')"
   ]
  },
  {
   "cell_type": "markdown",
   "metadata": {},
   "source": [
    "# Building CNN"
   ]
  },
  {
   "cell_type": "code",
   "execution_count": 26,
   "metadata": {},
   "outputs": [],
   "source": [
    "from keras.models import Sequential\n",
    "from keras.layers import Conv2D, MaxPool2D, Flatten, Dense"
   ]
  },
  {
   "cell_type": "code",
   "execution_count": 27,
   "metadata": {},
   "outputs": [],
   "source": [
    "cnn = Sequential()\n",
    "\n",
    "# Step 1 - Add Convolution Layer\n",
    "cnn.add(Conv2D(filters=32, kernel_size=3, activation='relu', input_shape=[64, 64, 3]))\n",
    "\n",
    "# Step 2 - Add Pooling Layer\n",
    "cnn.add(MaxPool2D(pool_size=2, strides=2))\n",
    "\n",
    "# Add second onvolutional layer with pooling\n",
    "cnn.add(Conv2D(filters=32, kernel_size=3, activation='relu'))\n",
    "cnn.add(MaxPool2D(pool_size=2, strides=2))\n",
    "\n",
    "# Step 3 - Add Flattening Layer\n",
    "cnn.add(Flatten())\n",
    "\n",
    "# Step 4 - Add Full Connected Layer\n",
    "cnn.add(Dense(units=128, activation='relu'))\n",
    "\n",
    "# Step 5 - Add Output Layer\n",
    "cnn.add(Dense(units=1, activation='sigmoid'))"
   ]
  },
  {
   "cell_type": "code",
   "execution_count": 28,
   "metadata": {},
   "outputs": [
    {
     "name": "stdout",
     "output_type": "stream",
     "text": [
      "Model: \"sequential_2\"\n",
      "_________________________________________________________________\n",
      "Layer (type)                 Output Shape              Param #   \n",
      "=================================================================\n",
      "conv2d_4 (Conv2D)            (None, 62, 62, 32)        896       \n",
      "_________________________________________________________________\n",
      "max_pooling2d_4 (MaxPooling2 (None, 31, 31, 32)        0         \n",
      "_________________________________________________________________\n",
      "conv2d_5 (Conv2D)            (None, 29, 29, 32)        9248      \n",
      "_________________________________________________________________\n",
      "max_pooling2d_5 (MaxPooling2 (None, 14, 14, 32)        0         \n",
      "_________________________________________________________________\n",
      "flatten_2 (Flatten)          (None, 6272)              0         \n",
      "_________________________________________________________________\n",
      "dense_4 (Dense)              (None, 128)               802944    \n",
      "_________________________________________________________________\n",
      "dense_5 (Dense)              (None, 1)                 129       \n",
      "=================================================================\n",
      "Total params: 813,217\n",
      "Trainable params: 813,217\n",
      "Non-trainable params: 0\n",
      "_________________________________________________________________\n"
     ]
    }
   ],
   "source": [
    "cnn.summary()"
   ]
  },
  {
   "cell_type": "markdown",
   "metadata": {},
   "source": [
    "# Training"
   ]
  },
  {
   "cell_type": "code",
   "execution_count": 29,
   "metadata": {},
   "outputs": [],
   "source": [
    "cnn.compile(optimizer='adam', loss='binary_crossentropy', metrics=['accuracy'])"
   ]
  },
  {
   "cell_type": "code",
   "execution_count": 30,
   "metadata": {},
   "outputs": [
    {
     "name": "stdout",
     "output_type": "stream",
     "text": [
      "Epoch 1/20\n",
      "251/251 [==============================] - 37s 146ms/step - loss: 0.6710 - accuracy: 0.5839 - val_loss: 0.6211 - val_accuracy: 0.6649\n",
      "Epoch 2/20\n",
      "251/251 [==============================] - 35s 140ms/step - loss: 0.6235 - accuracy: 0.6651 - val_loss: 0.6087 - val_accuracy: 0.6752\n",
      "Epoch 3/20\n",
      "251/251 [==============================] - 37s 147ms/step - loss: 0.5752 - accuracy: 0.7032 - val_loss: 0.5966 - val_accuracy: 0.6777\n",
      "Epoch 4/20\n",
      "251/251 [==============================] - 36s 142ms/step - loss: 0.5474 - accuracy: 0.7193 - val_loss: 0.5192 - val_accuracy: 0.7504\n",
      "Epoch 5/20\n",
      "251/251 [==============================] - 36s 144ms/step - loss: 0.5274 - accuracy: 0.7374 - val_loss: 0.5357 - val_accuracy: 0.7479\n",
      "Epoch 6/20\n",
      "251/251 [==============================] - 36s 143ms/step - loss: 0.5011 - accuracy: 0.7540 - val_loss: 0.5093 - val_accuracy: 0.7494\n",
      "Epoch 7/20\n",
      "251/251 [==============================] - 36s 142ms/step - loss: 0.4837 - accuracy: 0.7693 - val_loss: 0.5216 - val_accuracy: 0.7568\n",
      "Epoch 8/20\n",
      "251/251 [==============================] - 36s 142ms/step - loss: 0.4742 - accuracy: 0.7711 - val_loss: 0.4742 - val_accuracy: 0.7795\n",
      "Epoch 9/20\n",
      "251/251 [==============================] - 36s 142ms/step - loss: 0.4493 - accuracy: 0.7861 - val_loss: 0.4752 - val_accuracy: 0.7835\n",
      "Epoch 10/20\n",
      "251/251 [==============================] - 36s 143ms/step - loss: 0.4399 - accuracy: 0.7963 - val_loss: 0.4718 - val_accuracy: 0.7830\n",
      "Epoch 11/20\n",
      "251/251 [==============================] - 48s 192ms/step - loss: 0.4270 - accuracy: 0.8042 - val_loss: 0.4927 - val_accuracy: 0.7776\n",
      "Epoch 12/20\n",
      "251/251 [==============================] - 35s 139ms/step - loss: 0.4069 - accuracy: 0.8110 - val_loss: 0.4670 - val_accuracy: 0.7820\n",
      "Epoch 13/20\n",
      "251/251 [==============================] - 36s 143ms/step - loss: 0.3903 - accuracy: 0.8237 - val_loss: 0.4687 - val_accuracy: 0.7949\n",
      "Epoch 14/20\n",
      "251/251 [==============================] - 36s 144ms/step - loss: 0.3836 - accuracy: 0.8230 - val_loss: 0.5109 - val_accuracy: 0.7657\n",
      "Epoch 15/20\n",
      "251/251 [==============================] - 36s 142ms/step - loss: 0.3575 - accuracy: 0.8382 - val_loss: 0.4888 - val_accuracy: 0.7860\n",
      "Epoch 16/20\n",
      "251/251 [==============================] - 37s 146ms/step - loss: 0.3521 - accuracy: 0.8403 - val_loss: 0.4763 - val_accuracy: 0.7934\n",
      "Epoch 17/20\n",
      "251/251 [==============================] - 35s 140ms/step - loss: 0.3303 - accuracy: 0.8535 - val_loss: 0.4779 - val_accuracy: 0.7904\n",
      "Epoch 18/20\n",
      "251/251 [==============================] - 36s 143ms/step - loss: 0.3203 - accuracy: 0.8586 - val_loss: 0.5270 - val_accuracy: 0.7934\n",
      "Epoch 19/20\n",
      "251/251 [==============================] - 35s 139ms/step - loss: 0.3022 - accuracy: 0.8685 - val_loss: 0.4939 - val_accuracy: 0.7909\n",
      "Epoch 20/20\n",
      "251/251 [==============================] - 35s 138ms/step - loss: 0.2934 - accuracy: 0.8732 - val_loss: 0.5270 - val_accuracy: 0.7998\n"
     ]
    }
   ],
   "source": [
    "model_history = cnn.fit(x=training_set, validation_data=test_set, epochs=20)"
   ]
  },
  {
   "cell_type": "markdown",
   "metadata": {},
   "source": [
    "# Evaluating the Model"
   ]
  },
  {
   "cell_type": "code",
   "execution_count": 31,
   "metadata": {},
   "outputs": [],
   "source": [
    "import matplotlib.pyplot as plt\n",
    "import seaborn as sns"
   ]
  },
  {
   "cell_type": "code",
   "execution_count": 32,
   "metadata": {},
   "outputs": [
    {
     "name": "stdout",
     "output_type": "stream",
     "text": [
      "dict_keys(['loss', 'accuracy', 'val_loss', 'val_accuracy'])\n"
     ]
    }
   ],
   "source": [
    "# List all data in history\n",
    "print(model_history.history.keys())"
   ]
  },
  {
   "cell_type": "code",
   "execution_count": 33,
   "metadata": {},
   "outputs": [
    {
     "data": {
      "image/png": "[encoded data removed]",
      "text/plain": [
       "<Figure size 576x576 with 1 Axes>"
      ]
     },
     "metadata": {
      "needs_background": "light"
     },
     "output_type": "display_data"
    }
   ],
   "source": [
    "# Summarize history for accuracy\n",
    "\n",
    "plt.figure(figsize=(8,8))\n",
    "\n",
    "plt.plot(model_history.history['accuracy'])\n",
    "plt.plot(model_history.history['val_accuracy'])\n",
    "\n",
    "plt.title('Model Accuracy')\n",
    "plt.xlabel('Epoch')\n",
    "plt.ylabel('Accuracy')\n",
    "plt.legend(['Train', 'Test'], loc='lower right')\n",
    "plt.show()"
   ]
  },
  {
   "cell_type": "code",
   "execution_count": 34,
   "metadata": {},
   "outputs": [
    {
     "data": {
      "image/png": "[encoded data removed]",
      "text/plain": [
       "<Figure size 576x576 with 1 Axes>"
      ]
     },
     "metadata": {
      "needs_background": "light"
     },
     "output_type": "display_data"
    }
   ],
   "source": [
    "# Summarize history for loss\n",
    "\n",
    "plt.figure(figsize=(8,8))\n",
    "\n",
    "plt.plot(model_history.history['loss'])\n",
    "plt.plot(model_history.history['val_loss'])\n",
    "\n",
    "plt.title('Model Loss')\n",
    "plt.xlabel('Epoch')\n",
    "plt.ylabel('Loss')\n",
    "plt.legend(['Train', 'Test'], loc='upper right')\n",
    "plt.show()"
   ]
  },
  {
   "cell_type": "code",
   "execution_count": null,
   "metadata": {},
   "outputs": [],
   "source": []
  }
 ],
 "metadata": {
  "kernelspec": {
   "display_name": "Python 3",
   "language": "python",
   "name": "python3"
  },
  "language_info": {
   "codemirror_mode": {
    "name": "ipython",
    "version": 3
   },
   "file_extension": ".py",
   "mimetype": "text/x-python",
   "name": "python",
   "nbconvert_exporter": "python",
   "pygments_lexer": "ipython3",
   "version": "3.7.6"
  }
 },
 "nbformat": 4,
 "nbformat_minor": 4
}
